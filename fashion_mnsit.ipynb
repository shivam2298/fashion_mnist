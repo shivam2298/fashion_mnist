{
  "nbformat": 4,
  "nbformat_minor": 0,
  "metadata": {
    "colab": {
      "name": "fashion_mnsit.ipynb",
      "version": "0.3.2",
      "provenance": [],
      "collapsed_sections": []
    },
    "kernelspec": {
      "name": "python2",
      "display_name": "Python 2"
    },
    "accelerator": "GPU"
  },
  "cells": [
    {
      "metadata": {
        "id": "tdGkxPAXE3Ht",
        "colab_type": "code",
        "colab": {}
      },
      "cell_type": "code",
      "source": [
        "import numpy as np\n",
        "import pandas as pd\n",
        "from sklearn.model_selection import train_test_split\n",
        "from keras.applications.vgg16 import VGG16\n",
        "from keras.callbacks import EarlyStopping, ModelCheckpoint, ReduceLROnPlateau\n",
        "from keras.layers import Input, Dense, Dropout, Flatten\n",
        "from keras.layers import Conv2D, MaxPooling2D, GlobalAveragePooling2D\n",
        "from keras.models import Sequential, Model\n",
        "from keras.optimizers import Adam,SGD\n",
        "from keras.datasets import fashion_mnist\n",
        "from skimage.transform import resize\n",
        "import cv2\n",
        "from keras.applications.vgg16 import VGG16"
      ],
      "execution_count": 0,
      "outputs": []
    },
    {
      "metadata": {
        "id": "wTR46i19E_5o",
        "colab_type": "code",
        "colab": {
          "base_uri": "https://localhost:8080/",
          "height": 233
        },
        "outputId": "6be84e50-2cf2-4c2b-8ae3-fb3e822fc059"
      },
      "cell_type": "code",
      "source": [
        "(x_train, y_train), (x_test, y_test) = fashion_mnist.load_data()\n",
        "x_train = np.array([cv2.cvtColor(gray,cv2.COLOR_GRAY2RGB) for gray in x_train])\n",
        "x_test = np.array([cv2.cvtColor(gray,cv2.COLOR_GRAY2RGB) for gray in x_test])\n",
        "print(\"x_train shape:\", x_train.shape, \"y_train shape:\", y_train.shape)"
      ],
      "execution_count": 2,
      "outputs": [
        {
          "output_type": "stream",
          "text": [
            "Downloading data from http://fashion-mnist.s3-website.eu-central-1.amazonaws.com/train-labels-idx1-ubyte.gz\n",
            "32768/29515 [=================================] - 0s 3us/step\n",
            "40960/29515 [=========================================] - 0s 3us/step\n",
            "Downloading data from http://fashion-mnist.s3-website.eu-central-1.amazonaws.com/train-images-idx3-ubyte.gz\n",
            "26427392/26421880 [==============================] - 9s 0us/step\n",
            "26435584/26421880 [==============================] - 9s 0us/step\n",
            "Downloading data from http://fashion-mnist.s3-website.eu-central-1.amazonaws.com/t10k-labels-idx1-ubyte.gz\n",
            "16384/5148 [===============================================================================================] - 0s 0us/step\n",
            "Downloading data from http://fashion-mnist.s3-website.eu-central-1.amazonaws.com/t10k-images-idx3-ubyte.gz\n",
            "4423680/4422102 [==============================] - 4s 1us/step\n",
            "4431872/4422102 [==============================] - 4s 1us/step\n",
            "('x_train shape:', (60000, 28, 28, 3), 'y_train shape:', (60000,))\n"
          ],
          "name": "stdout"
        }
      ]
    },
    {
      "metadata": {
        "id": "g0K2KuDMFLTQ",
        "colab_type": "code",
        "colab": {}
      },
      "cell_type": "code",
      "source": [
        "from keras.preprocessing.image import img_to_array, array_to_img\n",
        "X_train = []\n",
        "X_test = []\n",
        "for im in x_train:\n",
        "    img = img_to_array(array_to_img(im, scale=False).resize((48,48)))\n",
        "    X_train.append(img)\n",
        "for im in x_test:\n",
        "    img = img_to_array(array_to_img(im, scale=False).resize((48,48)))\n",
        "    X_test.append(img)\n",
        "X_train = np.array(X_train)\n",
        "X_test = np.array(X_test)\n",
        "X_Train = X_train.astype('float32') / 255\n",
        "X_Test = X_test.astype('float32') / 255"
      ],
      "execution_count": 0,
      "outputs": []
    },
    {
      "metadata": {
        "id": "FcLgg2gyHqDq",
        "colab_type": "code",
        "colab": {
          "base_uri": "https://localhost:8080/",
          "height": 35
        },
        "outputId": "2b4c2737-a0a3-4649-b524-f4c0bd8255f3"
      },
      "cell_type": "code",
      "source": [
        "from keras.utils import to_categorical\n",
        "Y_Train = to_categorical(y_train, num_classes=10)\n",
        "Y_Test = to_categorical(y_test, num_classes=10)\n",
        "print (Y_Train.shape)"
      ],
      "execution_count": 13,
      "outputs": [
        {
          "output_type": "stream",
          "text": [
            "(60000, 10)\n"
          ],
          "name": "stdout"
        }
      ]
    },
    {
      "metadata": {
        "id": "GYbJaBmaMM9g",
        "colab_type": "code",
        "colab": {
          "base_uri": "https://localhost:8080/",
          "height": 845
        },
        "outputId": "fdae1d6f-0cac-4c24-b978-e95465605a1a"
      },
      "cell_type": "code",
      "source": [
        "\n",
        "model_vgg16_conv = VGG16(weights='imagenet', include_top=False,input_shape = (48,48,3))\n",
        "print (model_vgg16_conv.summary())\n",
        "model = Sequential()\n",
        "model.add(model_vgg16_conv)\n",
        "model.add(Dropout(0.25))\n",
        "model.add(Flatten())\n",
        "model.add(Dense(10, activation='softmax', name='predictions'))    \n",
        "for layer in model_vgg16_conv.layers[:-2]:\n",
        "  layer.trainable = False\n",
        "\n",
        "model.compile(loss='categorical_crossentropy', optimizer=SGD(lr=0.01, decay=0.0),metrics=['accuracy'])\n"
      ],
      "execution_count": 24,
      "outputs": [
        {
          "output_type": "stream",
          "text": [
            "_________________________________________________________________\n",
            "Layer (type)                 Output Shape              Param #   \n",
            "=================================================================\n",
            "input_13 (InputLayer)        (None, 48, 48, 3)         0         \n",
            "_________________________________________________________________\n",
            "block1_conv1 (Conv2D)        (None, 48, 48, 64)        1792      \n",
            "_________________________________________________________________\n",
            "block1_conv2 (Conv2D)        (None, 48, 48, 64)        36928     \n",
            "_________________________________________________________________\n",
            "block1_pool (MaxPooling2D)   (None, 24, 24, 64)        0         \n",
            "_________________________________________________________________\n",
            "block2_conv1 (Conv2D)        (None, 24, 24, 128)       73856     \n",
            "_________________________________________________________________\n",
            "block2_conv2 (Conv2D)        (None, 24, 24, 128)       147584    \n",
            "_________________________________________________________________\n",
            "block2_pool (MaxPooling2D)   (None, 12, 12, 128)       0         \n",
            "_________________________________________________________________\n",
            "block3_conv1 (Conv2D)        (None, 12, 12, 256)       295168    \n",
            "_________________________________________________________________\n",
            "block3_conv2 (Conv2D)        (None, 12, 12, 256)       590080    \n",
            "_________________________________________________________________\n",
            "block3_conv3 (Conv2D)        (None, 12, 12, 256)       590080    \n",
            "_________________________________________________________________\n",
            "block3_pool (MaxPooling2D)   (None, 6, 6, 256)         0         \n",
            "_________________________________________________________________\n",
            "block4_conv1 (Conv2D)        (None, 6, 6, 512)         1180160   \n",
            "_________________________________________________________________\n",
            "block4_conv2 (Conv2D)        (None, 6, 6, 512)         2359808   \n",
            "_________________________________________________________________\n",
            "block4_conv3 (Conv2D)        (None, 6, 6, 512)         2359808   \n",
            "_________________________________________________________________\n",
            "block4_pool (MaxPooling2D)   (None, 3, 3, 512)         0         \n",
            "_________________________________________________________________\n",
            "block5_conv1 (Conv2D)        (None, 3, 3, 512)         2359808   \n",
            "_________________________________________________________________\n",
            "block5_conv2 (Conv2D)        (None, 3, 3, 512)         2359808   \n",
            "_________________________________________________________________\n",
            "block5_conv3 (Conv2D)        (None, 3, 3, 512)         2359808   \n",
            "_________________________________________________________________\n",
            "block5_pool (MaxPooling2D)   (None, 1, 1, 512)         0         \n",
            "=================================================================\n",
            "Total params: 14,714,688\n",
            "Trainable params: 14,714,688\n",
            "Non-trainable params: 0\n",
            "_________________________________________________________________\n",
            "None\n"
          ],
          "name": "stdout"
        }
      ]
    },
    {
      "metadata": {
        "id": "F_6nVt5mie31",
        "colab_type": "code",
        "colab": {
          "base_uri": "https://localhost:8080/",
          "height": 395
        },
        "outputId": "040b743f-25ab-479d-c63b-44d19877bbb4"
      },
      "cell_type": "code",
      "source": [
        "model.fit(X_Train, Y_Train, batch_size=500, epochs=10)"
      ],
      "execution_count": 25,
      "outputs": [
        {
          "output_type": "stream",
          "text": [
            "Epoch 1/10\n",
            "60000/60000 [==============================] - 35s 589us/step - loss: 0.8973 - acc: 0.7177\n",
            "Epoch 2/10\n",
            "60000/60000 [==============================] - 32s 535us/step - loss: 0.5502 - acc: 0.8127\n",
            "Epoch 3/10\n",
            "60000/60000 [==============================] - 32s 535us/step - loss: 0.4889 - acc: 0.8287\n",
            "Epoch 4/10\n",
            "60000/60000 [==============================] - 32s 536us/step - loss: 0.4520 - acc: 0.8408\n",
            "Epoch 5/10\n",
            "60000/60000 [==============================] - 32s 535us/step - loss: 0.4306 - acc: 0.8489\n",
            "Epoch 6/10\n",
            "60000/60000 [==============================] - 32s 536us/step - loss: 0.4125 - acc: 0.8549\n",
            "Epoch 7/10\n",
            "60000/60000 [==============================] - 32s 535us/step - loss: 0.3968 - acc: 0.8606\n",
            "Epoch 8/10\n",
            "60000/60000 [==============================] - 32s 536us/step - loss: 0.3870 - acc: 0.8627\n",
            "Epoch 9/10\n",
            "60000/60000 [==============================] - 32s 537us/step - loss: 0.3761 - acc: 0.8675\n",
            "Epoch 10/10\n",
            "60000/60000 [==============================] - 32s 536us/step - loss: 0.3673 - acc: 0.8705\n"
          ],
          "name": "stdout"
        },
        {
          "output_type": "execute_result",
          "data": {
            "text/plain": [
              "<keras.callbacks.History at 0x7f5ee47acc50>"
            ]
          },
          "metadata": {
            "tags": []
          },
          "execution_count": 25
        }
      ]
    }
  ]
}